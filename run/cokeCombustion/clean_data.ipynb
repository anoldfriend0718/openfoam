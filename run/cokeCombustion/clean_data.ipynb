{
 "cells": [
  {
   "cell_type": "code",
   "execution_count": 6,
   "source": [
    "import os \n",
    "from os import path\n",
    "import shutil\n",
    "import glob"
   ],
   "outputs": [],
   "metadata": {}
  },
  {
   "cell_type": "code",
   "execution_count": 21,
   "source": [
    "dirs=next(os.walk('.'))[1]\n",
    "cwd=path.abspath(\"./\")\n",
    "case_dirs=[]\n",
    "for folder in dirs:\n",
    "    subdir=path.join(cwd,folder)\n",
    "    if \"processor0\" in next(os.walk(subdir))[1]:\n",
    "        case_dirs.append(subdir)\n",
    "\n",
    "for case_dir in case_dirs:\n",
    "    processors = glob.iglob(os.path.join(case_dir, \"processor*\"))\n",
    "    for processor in processors:\n",
    "        if path.isdir(processor):\n",
    "            shutil.rmtree(processor)\n"
   ],
   "outputs": [
    {
     "output_type": "stream",
     "name": "stdout",
     "text": [
      "/home/anoldfriend/OpenFOAM/anoldfriend-7/run/cokeCombustion/full3\n",
      "/home/anoldfriend/OpenFOAM/anoldfriend-7/run/cokeCombustion/T573_Pe1e-3_modifiedRPM\n",
      "/home/anoldfriend/OpenFOAM/anoldfriend-7/run/cokeCombustion/T873_Pe1e-3\n",
      "/home/anoldfriend/OpenFOAM/anoldfriend-7/run/cokeCombustion/full1\n",
      "/home/anoldfriend/OpenFOAM/anoldfriend-7/run/cokeCombustion/T673_Pe1e-2_modifiedRPM\n",
      "/home/anoldfriend/OpenFOAM/anoldfriend-7/run/cokeCombustion/T773_Pe5e-1\n",
      "/home/anoldfriend/OpenFOAM/anoldfriend-7/run/cokeCombustion/T573_Pe1e-1\n",
      "/home/anoldfriend/OpenFOAM/anoldfriend-7/run/cokeCombustion/full2\n",
      "/home/anoldfriend/OpenFOAM/anoldfriend-7/run/cokeCombustion/T573_Pe1e-1_modifiedRPM\n",
      "/home/anoldfriend/OpenFOAM/anoldfriend-7/run/cokeCombustion/T573_Pe1e-3\n",
      "/home/anoldfriend/OpenFOAM/anoldfriend-7/run/cokeCombustion/T573_Pe1e-2_modifiedRPM\n",
      "/home/anoldfriend/OpenFOAM/anoldfriend-7/run/cokeCombustion/T573_Pe1e-2\n",
      "/home/anoldfriend/OpenFOAM/anoldfriend-7/run/cokeCombustion/full1_3\n",
      "/home/anoldfriend/OpenFOAM/anoldfriend-7/run/cokeCombustion/base\n",
      "/home/anoldfriend/OpenFOAM/anoldfriend-7/run/cokeCombustion/T673_Pe1e-3\n",
      "/home/anoldfriend/OpenFOAM/anoldfriend-7/run/cokeCombustion/T673_Pe1e-2\n",
      "/home/anoldfriend/OpenFOAM/anoldfriend-7/run/cokeCombustion/full1_5\n",
      "/home/anoldfriend/OpenFOAM/anoldfriend-7/run/cokeCombustion/T773_Pe1e-2\n",
      "/home/anoldfriend/OpenFOAM/anoldfriend-7/run/cokeCombustion/full2_1\n",
      "/home/anoldfriend/OpenFOAM/anoldfriend-7/run/cokeCombustion/T673_Pe1e-3_modifiedRPM\n",
      "/home/anoldfriend/OpenFOAM/anoldfriend-7/run/cokeCombustion/T873_Pe1e-2\n",
      "/home/anoldfriend/OpenFOAM/anoldfriend-7/run/cokeCombustion/T673_Pe1e-3_ExternalSurface\n",
      "/home/anoldfriend/OpenFOAM/anoldfriend-7/run/cokeCombustion/T773_Pe1e-3\n",
      "/home/anoldfriend/OpenFOAM/anoldfriend-7/run/cokeCombustion/T773_Pe1e-1\n",
      "['/home/anoldfriend/OpenFOAM/anoldfriend-7/run/cokeCombustion/full3', '/home/anoldfriend/OpenFOAM/anoldfriend-7/run/cokeCombustion/T573_Pe1e-3_modifiedRPM', '/home/anoldfriend/OpenFOAM/anoldfriend-7/run/cokeCombustion/T873_Pe1e-3', '/home/anoldfriend/OpenFOAM/anoldfriend-7/run/cokeCombustion/full1', '/home/anoldfriend/OpenFOAM/anoldfriend-7/run/cokeCombustion/T673_Pe1e-2_modifiedRPM', '/home/anoldfriend/OpenFOAM/anoldfriend-7/run/cokeCombustion/T773_Pe5e-1', '/home/anoldfriend/OpenFOAM/anoldfriend-7/run/cokeCombustion/T573_Pe1e-1', '/home/anoldfriend/OpenFOAM/anoldfriend-7/run/cokeCombustion/full2', '/home/anoldfriend/OpenFOAM/anoldfriend-7/run/cokeCombustion/T573_Pe1e-1_modifiedRPM', '/home/anoldfriend/OpenFOAM/anoldfriend-7/run/cokeCombustion/T573_Pe1e-3', '/home/anoldfriend/OpenFOAM/anoldfriend-7/run/cokeCombustion/T573_Pe1e-2_modifiedRPM', '/home/anoldfriend/OpenFOAM/anoldfriend-7/run/cokeCombustion/T573_Pe1e-2', '/home/anoldfriend/OpenFOAM/anoldfriend-7/run/cokeCombustion/full1_3', '/home/anoldfriend/OpenFOAM/anoldfriend-7/run/cokeCombustion/base', '/home/anoldfriend/OpenFOAM/anoldfriend-7/run/cokeCombustion/T673_Pe1e-3', '/home/anoldfriend/OpenFOAM/anoldfriend-7/run/cokeCombustion/T673_Pe1e-2', '/home/anoldfriend/OpenFOAM/anoldfriend-7/run/cokeCombustion/full1_5', '/home/anoldfriend/OpenFOAM/anoldfriend-7/run/cokeCombustion/T773_Pe1e-2', '/home/anoldfriend/OpenFOAM/anoldfriend-7/run/cokeCombustion/full2_1', '/home/anoldfriend/OpenFOAM/anoldfriend-7/run/cokeCombustion/T673_Pe1e-3_modifiedRPM', '/home/anoldfriend/OpenFOAM/anoldfriend-7/run/cokeCombustion/T873_Pe1e-2', '/home/anoldfriend/OpenFOAM/anoldfriend-7/run/cokeCombustion/T673_Pe1e-3_ExternalSurface', '/home/anoldfriend/OpenFOAM/anoldfriend-7/run/cokeCombustion/T773_Pe1e-3', '/home/anoldfriend/OpenFOAM/anoldfriend-7/run/cokeCombustion/T773_Pe1e-1']\n"
     ]
    }
   ],
   "metadata": {}
  },
  {
   "cell_type": "code",
   "execution_count": 20,
   "source": [
    "next(os.walk(\"./full3\"))[1]"
   ],
   "outputs": [
    {
     "output_type": "execute_result",
     "data": {
      "text/plain": [
       "['postProcessing',\n",
       " 'constant',\n",
       " 'system',\n",
       " 'postProcess',\n",
       " '0',\n",
       " 'analysis',\n",
       " 'logs']"
      ]
     },
     "metadata": {},
     "execution_count": 20
    }
   ],
   "metadata": {}
  },
  {
   "cell_type": "code",
   "execution_count": 14,
   "source": [],
   "outputs": [
    {
     "output_type": "execute_result",
     "data": {
      "text/plain": [
       "['full3',\n",
       " 'T573_Pe1e-3_modifiedRPM',\n",
       " 'T873_Pe1e-3',\n",
       " 'full1',\n",
       " 'T673_Pe1e-2_modifiedRPM',\n",
       " 'gridSizeSensitivityAnalysis',\n",
       " 'T773_Pe5e-1',\n",
       " 'T573_Pe1e-1',\n",
       " 'full2',\n",
       " 'T573_Pe1e-1_modifiedRPM',\n",
       " 'T573_Pe1e-3',\n",
       " 'T573_Pe1e-2_modifiedRPM',\n",
       " 'T573_Pe1e-2',\n",
       " 'combustion_in_fracture_martrix',\n",
       " 'full1_3',\n",
       " 'base',\n",
       " 'compareInitialTimeSteps',\n",
       " 'T673_Pe1e-3',\n",
       " 'T673_Pe1e-2',\n",
       " 'full1_5',\n",
       " 'PeAnalysis',\n",
       " 'T773_Pe1e-2',\n",
       " 'DaAnalysis',\n",
       " 'full2_1',\n",
       " 'T673_Pe1e-3_modifiedRPM',\n",
       " 'reactionSurfaceModel',\n",
       " 'T873_Pe1e-2',\n",
       " 'T673_Pe1e-3_ExternalSurface',\n",
       " 'T773_Pe1e-3',\n",
       " 'compareSameAndDifferentCp',\n",
       " 'T773_Pe1e-1']"
      ]
     },
     "metadata": {},
     "execution_count": 14
    }
   ],
   "metadata": {}
  }
 ],
 "metadata": {
  "orig_nbformat": 4,
  "language_info": {
   "name": "python",
   "version": "3.8.5",
   "mimetype": "text/x-python",
   "codemirror_mode": {
    "name": "ipython",
    "version": 3
   },
   "pygments_lexer": "ipython3",
   "nbconvert_exporter": "python",
   "file_extension": ".py"
  },
  "kernelspec": {
   "name": "python3",
   "display_name": "Python 3.8.5 64-bit ('.venv': venv)"
  },
  "interpreter": {
   "hash": "67b393f23005f5647497c50fa99fb25b525d8642232b1bdc07a39bdb19f3ee4f"
  }
 },
 "nbformat": 4,
 "nbformat_minor": 2
}