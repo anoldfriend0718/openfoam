{
 "metadata": {
  "language_info": {
   "codemirror_mode": {
    "name": "ipython",
    "version": 3
   },
   "file_extension": ".py",
   "mimetype": "text/x-python",
   "name": "python",
   "nbconvert_exporter": "python",
   "pygments_lexer": "ipython3",
   "version": "3.8.5"
  },
  "orig_nbformat": 2,
  "kernelspec": {
   "name": "python385jvsc74a57bd031f2aee4e71d21fbe5cf8b01ff0e069b9275f58929596ceb00d14d90e3e16cd6",
   "display_name": "Python 3.8.5 64-bit"
  },
  "metadata": {
   "interpreter": {
    "hash": "31f2aee4e71d21fbe5cf8b01ff0e069b9275f58929596ceb00d14d90e3e16cd6"
   }
  }
 },
 "nbformat": 4,
 "nbformat_minor": 2,
 "cells": [
  {
   "cell_type": "code",
   "execution_count": 1,
   "metadata": {},
   "outputs": [],
   "source": [
    "import os\n",
    "WM_PROJECT_USER_DIR=os.environ['WM_PROJECT_USER_DIR']\n",
    "import sys \n",
    "sys.path.append(f\"{WM_PROJECT_USER_DIR}/pyScripts\")\n",
    "\n",
    "from icoDBSPerm import PermEngine,AMDomainReader"
   ]
  },
  {
   "cell_type": "code",
   "execution_count": 2,
   "metadata": {},
   "outputs": [
    {
     "output_type": "execute_result",
     "data": {
      "text/plain": [
       "(0.6766212072907245, True, '')"
      ]
     },
     "metadata": {},
     "execution_count": 2
    }
   ],
   "source": [
    "case={}\n",
    "case[\"directory\"]=\"/home/anoldfriend/OpenFOAM/anoldfriend-7/applications/solvers/icoDBSPermFoam/runs/splitcases60x50x100_2\"\n",
    "case[\"structure\"]=\"/home/anoldfriend/OpenFOAM/anoldfriend-7/applications/solvers/icoDBSPermFoam/runs/splitcases60x50x100_2/structures/DATA_60x50x100.am\"\n",
    "case[\"nx\"]=60\n",
    "case[\"ny\"]=50\n",
    "case[\"nz\"]=100\n",
    "case[\"resolution\"]=25e-6\n",
    "case[\"subdomain_num\"]=2\n",
    "case[\"processor\"]=8\n",
    "\n",
    "template_config={}\n",
    "template_config[\"geometry\"]=\"/home/anoldfriend/OpenFOAM/anoldfriend-7/applications/solvers/icoDBSPermFoam/runs/templates/geometry\"\n",
    "template_config[\"perm_case\"]=\"/home/anoldfriend/OpenFOAM/anoldfriend-7/applications/solvers/icoDBSPermFoam/runs/templates/perm_case\"\n",
    "\n",
    "\n",
    "reader=AMDomainReader()\n",
    "perm_engine=PermEngine(reader,template_config)\n",
    "perm_engine.run(case)"
   ]
  }
 ]
}