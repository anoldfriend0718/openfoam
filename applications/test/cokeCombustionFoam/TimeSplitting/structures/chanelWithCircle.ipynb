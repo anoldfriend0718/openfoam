{
 "metadata": {
  "language_info": {
   "codemirror_mode": {
    "name": "ipython",
    "version": 3
   },
   "file_extension": ".py",
   "mimetype": "text/x-python",
   "name": "python",
   "nbconvert_exporter": "python",
   "pygments_lexer": "ipython3",
   "version": "3.8.5-final"
  },
  "orig_nbformat": 2,
  "kernelspec": {
   "name": "python3",
   "display_name": "Python 3.8.5 64-bit ('.venv')",
   "metadata": {
    "interpreter": {
     "hash": "67b393f23005f5647497c50fa99fb25b525d8642232b1bdc07a39bdb19f3ee4f"
    }
   }
  }
 },
 "nbformat": 4,
 "nbformat_minor": 2,
 "cells": [
  {
   "cell_type": "code",
   "execution_count": 150,
   "metadata": {},
   "outputs": [],
   "source": [
    "import numpy as np\n",
    "import matplotlib.pyplot as plt"
   ]
  },
  {
   "cell_type": "code",
   "execution_count": 151,
   "metadata": {},
   "outputs": [],
   "source": [
    "ny=50\n",
    "nx=200\n",
    "oy=25\n",
    "ox=80\n",
    "r=10"
   ]
  },
  {
   "cell_type": "code",
   "execution_count": 152,
   "metadata": {},
   "outputs": [],
   "source": [
    "eps=np.ones([nx,ny])\n",
    "for i in np.arange(0,nx):\n",
    "    for j in np.arange(0,ny):\n",
    "        if((i-ox)*(i-ox)+(j-oy)*(j-oy))<=r*r:\n",
    "            eps[i,j]=0.2\n",
    "coke=np.zeros([nx,ny])\n",
    "for i in np.arange(0,nx):\n",
    "    for j in np.arange(0,ny):\n",
    "        if((i-ox)*(i-ox)+(j-oy)*(j-oy))<=r*r:\n",
    "            coke[i,j]=0.8"
   ]
  },
  {
   "cell_type": "code",
   "execution_count": 153,
   "metadata": {},
   "outputs": [
    {
     "output_type": "execute_result",
     "data": {
      "text/plain": [
       "<matplotlib.image.AxesImage at 0x7feac304fb50>"
      ]
     },
     "metadata": {},
     "execution_count": 153
    },
    {
     "output_type": "display_data",
     "data": {
      "text/plain": "<Figure size 432x288 with 1 Axes>",
      "image/svg+xml": "<?xml version=\"1.0\" encoding=\"utf-8\" standalone=\"no\"?>\n<!DOCTYPE svg PUBLIC \"-//W3C//DTD SVG 1.1//EN\"\n  \"http://www.w3.org/Graphics/SVG/1.1/DTD/svg11.dtd\">\n<!-- Created with matplotlib (https://matplotlib.org/) -->\n<svg height=\"251.773744pt\" version=\"1.1\" viewBox=\"0 0 94.8475 251.773744\" width=\"94.8475pt\" xmlns=\"http://www.w3.org/2000/svg\" xmlns:xlink=\"http://www.w3.org/1999/xlink\">\n <metadata>\n  <rdf:RDF xmlns:cc=\"http://creativecommons.org/ns#\" xmlns:dc=\"http://purl.org/dc/elements/1.1/\" xmlns:rdf=\"http://www.w3.org/1999/02/22-rdf-syntax-ns#\">\n   <cc:Work>\n    <dc:type rdf:resource=\"http://purl.org/dc/dcmitype/StillImage\"/>\n    <dc:date>2021-01-18T23:30:53.453373</dc:date>\n    <dc:format>image/svg+xml</dc:format>\n    <dc:creator>\n     <cc:Agent>\n      <dc:title>Matplotlib v3.3.3, https://matplotlib.org/</dc:title>\n     </cc:Agent>\n    </dc:creator>\n   </cc:Work>\n  </rdf:RDF>\n </metadata>\n <defs>\n  <style type=\"text/css\">*{stroke-linecap:butt;stroke-linejoin:round;}</style>\n </defs>\n <g id=\"figure_1\">\n  <g id=\"patch_1\">\n   <path d=\"M 0 251.773744 \nL 94.8475 251.773744 \nL 94.8475 0 \nL 0 0 \nz\n\" style=\"fill:none;\"/>\n  </g>\n  <g id=\"axes_1\">\n   <g id=\"patch_2\">\n    <path d=\"M 33.2875 227.895619 \nL 87.6475 227.895619 \nL 87.6475 10.455619 \nL 33.2875 10.455619 \nz\n\" style=\"fill:#ffffff;\"/>\n   </g>\n   <g clip-path=\"url(#pa921e3139e)\">\n    <image height=\"218\" id=\"image965f366df6\" transform=\"scale(1 -1)translate(0 -218)\" width=\"55\" x=\"33.2875\" xlink:href=\"data:image/png;base64,\niVBORw0KGgoAAAANSUhEUgAAADcAAADaCAYAAAACAdoaAAADJ0lEQVR4nO3dT0iTcRzH8c+z2cqnJZV2MMRDRiUVGRoRGAwPXayLB6GI6FJBUIcgPASFl4hI7CCVGR5CMDpEUXgIyv4cs4FB//zDQo256FDTTWf706nEPAj7/Z7FRz7v49jzfb4veMb27PI4mejmHJZpvv+9gJcJx5pwrAnHmnCsCceacKwJx5pwrAnHmnCsCceacKwJx5pwrAnHmnCsCceacKwJx5pwrAnHmnCsCceacKwJx5pwrAnHmnCsCceacKwJx5pwrAnHmnCsCceacKwJx5pwrAnHmnCsCceacKwJx5pwrAnHmnCsCceacKwJx5pwrAnHmnCsCceacKwJx5pwrAnHmnCsFRQX+TWN93MzBTtfkZfDv2USyOTmn4xzoPc8guMO+lquLnhfeVHQk/M7XjyXJ5PLAgAOVYeQiceX2MDBk4kB+ODA79i9kKzjxtLTOFFZn9exZ0c+odGdtbaLVdzDRBCdNbuQTSTyOt7nutj6eg7Xywes7GPtOmiJ1aCrIZQ3DACyySSGD5ah/l2TlZ2s4abSq5AenzCek45OIpEKWNjIEu7olxA+XNppYxQAoLTdRe3bZuM5VnCDsY1Y2ffGxigAgP9FGD9G1xvP0S8U1oxxT5MrkIyU2NhlQcVRH+5NrTOaYYw71X8c29rGTMcsqrJ7GK29h41mGOMijV0Y61hrOmZRny9U4ePJG0Yz9JljTbil6q/rAp5V2BgFABjp2Y2XTdeM51jBlflXo6rku41RAICSNTOosHADa+2yPLPhOb4+2G48Z+hOHdp33LewkUVcdcDF49pODHXX5T1juGMvehpuI1SctbKT9Tvxn9kZ7Ll7DgCwqTWMXCq15DGRy/sAAI+OtKE64FrbxZP/UP5Uc+U0/Kn58WWDCfjjs4jtL/37Ws4BwhdvenJ+T3H/tuXVMWQmXYw23yrI+QqKK3T6EmdNONaEY0041oRjTTjWhGNNONaEY0041oRjTTjWhGNNONaEY0041oRjTTjWhGNNONaEY0041oRjTTjWhGNNONaEY0041oRjTTjWhGNNONaEY0041oRjTTjWhGNtWeN+A+Dpp/VXhdTmAAAAAElFTkSuQmCC\" y=\"-9.895619\"/>\n   </g>\n   <g id=\"matplotlib.axis_1\">\n    <g id=\"xtick_1\">\n     <g id=\"line2d_1\">\n      <defs>\n       <path d=\"M 0 0 \nL 0 3.5 \n\" id=\"m5e29655778\" style=\"stroke:#000000;stroke-width:0.8;\"/>\n      </defs>\n      <g>\n       <use style=\"stroke:#000000;stroke-width:0.8;\" x=\"33.8311\" xlink:href=\"#m5e29655778\" y=\"227.895619\"/>\n      </g>\n     </g>\n     <g id=\"text_1\">\n      <!-- 0 -->\n      <g transform=\"translate(30.64985 242.494056)scale(0.1 -0.1)\">\n       <defs>\n        <path d=\"M 31.78125 66.40625 \nQ 24.171875 66.40625 20.328125 58.90625 \nQ 16.5 51.421875 16.5 36.375 \nQ 16.5 21.390625 20.328125 13.890625 \nQ 24.171875 6.390625 31.78125 6.390625 \nQ 39.453125 6.390625 43.28125 13.890625 \nQ 47.125 21.390625 47.125 36.375 \nQ 47.125 51.421875 43.28125 58.90625 \nQ 39.453125 66.40625 31.78125 66.40625 \nz\nM 31.78125 74.21875 \nQ 44.046875 74.21875 50.515625 64.515625 \nQ 56.984375 54.828125 56.984375 36.375 \nQ 56.984375 17.96875 50.515625 8.265625 \nQ 44.046875 -1.421875 31.78125 -1.421875 \nQ 19.53125 -1.421875 13.0625 8.265625 \nQ 6.59375 17.96875 6.59375 36.375 \nQ 6.59375 54.828125 13.0625 64.515625 \nQ 19.53125 74.21875 31.78125 74.21875 \nz\n\" id=\"DejaVuSans-48\"/>\n       </defs>\n       <use xlink:href=\"#DejaVuSans-48\"/>\n      </g>\n     </g>\n    </g>\n    <g id=\"xtick_2\">\n     <g id=\"line2d_2\">\n      <g>\n       <use style=\"stroke:#000000;stroke-width:0.8;\" x=\"61.0111\" xlink:href=\"#m5e29655778\" y=\"227.895619\"/>\n      </g>\n     </g>\n     <g id=\"text_2\">\n      <!-- 25 -->\n      <g transform=\"translate(54.6486 242.494056)scale(0.1 -0.1)\">\n       <defs>\n        <path d=\"M 19.1875 8.296875 \nL 53.609375 8.296875 \nL 53.609375 0 \nL 7.328125 0 \nL 7.328125 8.296875 \nQ 12.9375 14.109375 22.625 23.890625 \nQ 32.328125 33.6875 34.8125 36.53125 \nQ 39.546875 41.84375 41.421875 45.53125 \nQ 43.3125 49.21875 43.3125 52.78125 \nQ 43.3125 58.59375 39.234375 62.25 \nQ 35.15625 65.921875 28.609375 65.921875 \nQ 23.96875 65.921875 18.8125 64.3125 \nQ 13.671875 62.703125 7.8125 59.421875 \nL 7.8125 69.390625 \nQ 13.765625 71.78125 18.9375 73 \nQ 24.125 74.21875 28.421875 74.21875 \nQ 39.75 74.21875 46.484375 68.546875 \nQ 53.21875 62.890625 53.21875 53.421875 \nQ 53.21875 48.921875 51.53125 44.890625 \nQ 49.859375 40.875 45.40625 35.40625 \nQ 44.1875 33.984375 37.640625 27.21875 \nQ 31.109375 20.453125 19.1875 8.296875 \nz\n\" id=\"DejaVuSans-50\"/>\n        <path d=\"M 10.796875 72.90625 \nL 49.515625 72.90625 \nL 49.515625 64.59375 \nL 19.828125 64.59375 \nL 19.828125 46.734375 \nQ 21.96875 47.46875 24.109375 47.828125 \nQ 26.265625 48.1875 28.421875 48.1875 \nQ 40.625 48.1875 47.75 41.5 \nQ 54.890625 34.8125 54.890625 23.390625 \nQ 54.890625 11.625 47.5625 5.09375 \nQ 40.234375 -1.421875 26.90625 -1.421875 \nQ 22.3125 -1.421875 17.546875 -0.640625 \nQ 12.796875 0.140625 7.71875 1.703125 \nL 7.71875 11.625 \nQ 12.109375 9.234375 16.796875 8.0625 \nQ 21.484375 6.890625 26.703125 6.890625 \nQ 35.15625 6.890625 40.078125 11.328125 \nQ 45.015625 15.765625 45.015625 23.390625 \nQ 45.015625 31 40.078125 35.4375 \nQ 35.15625 39.890625 26.703125 39.890625 \nQ 22.75 39.890625 18.8125 39.015625 \nQ 14.890625 38.140625 10.796875 36.28125 \nz\n\" id=\"DejaVuSans-53\"/>\n       </defs>\n       <use xlink:href=\"#DejaVuSans-50\"/>\n       <use x=\"63.623047\" xlink:href=\"#DejaVuSans-53\"/>\n      </g>\n     </g>\n    </g>\n   </g>\n   <g id=\"matplotlib.axis_2\">\n    <g id=\"ytick_1\">\n     <g id=\"line2d_3\">\n      <defs>\n       <path d=\"M 0 0 \nL -3.5 0 \n\" id=\"mfbe3e526a3\" style=\"stroke:#000000;stroke-width:0.8;\"/>\n      </defs>\n      <g>\n       <use style=\"stroke:#000000;stroke-width:0.8;\" x=\"33.2875\" xlink:href=\"#mfbe3e526a3\" y=\"10.999219\"/>\n      </g>\n     </g>\n     <g id=\"text_3\">\n      <!-- 0 -->\n      <g transform=\"translate(19.925 14.798437)scale(0.1 -0.1)\">\n       <use xlink:href=\"#DejaVuSans-48\"/>\n      </g>\n     </g>\n    </g>\n    <g id=\"ytick_2\">\n     <g id=\"line2d_4\">\n      <g>\n       <use style=\"stroke:#000000;stroke-width:0.8;\" x=\"33.2875\" xlink:href=\"#mfbe3e526a3\" y=\"38.179219\"/>\n      </g>\n     </g>\n     <g id=\"text_4\">\n      <!-- 25 -->\n      <g transform=\"translate(13.5625 41.978437)scale(0.1 -0.1)\">\n       <use xlink:href=\"#DejaVuSans-50\"/>\n       <use x=\"63.623047\" xlink:href=\"#DejaVuSans-53\"/>\n      </g>\n     </g>\n    </g>\n    <g id=\"ytick_3\">\n     <g id=\"line2d_5\">\n      <g>\n       <use style=\"stroke:#000000;stroke-width:0.8;\" x=\"33.2875\" xlink:href=\"#mfbe3e526a3\" y=\"65.359219\"/>\n      </g>\n     </g>\n     <g id=\"text_5\">\n      <!-- 50 -->\n      <g transform=\"translate(13.5625 69.158437)scale(0.1 -0.1)\">\n       <use xlink:href=\"#DejaVuSans-53\"/>\n       <use x=\"63.623047\" xlink:href=\"#DejaVuSans-48\"/>\n      </g>\n     </g>\n    </g>\n    <g id=\"ytick_4\">\n     <g id=\"line2d_6\">\n      <g>\n       <use style=\"stroke:#000000;stroke-width:0.8;\" x=\"33.2875\" xlink:href=\"#mfbe3e526a3\" y=\"92.539219\"/>\n      </g>\n     </g>\n     <g id=\"text_6\">\n      <!-- 75 -->\n      <g transform=\"translate(13.5625 96.338437)scale(0.1 -0.1)\">\n       <defs>\n        <path d=\"M 8.203125 72.90625 \nL 55.078125 72.90625 \nL 55.078125 68.703125 \nL 28.609375 0 \nL 18.3125 0 \nL 43.21875 64.59375 \nL 8.203125 64.59375 \nz\n\" id=\"DejaVuSans-55\"/>\n       </defs>\n       <use xlink:href=\"#DejaVuSans-55\"/>\n       <use x=\"63.623047\" xlink:href=\"#DejaVuSans-53\"/>\n      </g>\n     </g>\n    </g>\n    <g id=\"ytick_5\">\n     <g id=\"line2d_7\">\n      <g>\n       <use style=\"stroke:#000000;stroke-width:0.8;\" x=\"33.2875\" xlink:href=\"#mfbe3e526a3\" y=\"119.719219\"/>\n      </g>\n     </g>\n     <g id=\"text_7\">\n      <!-- 100 -->\n      <g transform=\"translate(7.2 123.518437)scale(0.1 -0.1)\">\n       <defs>\n        <path d=\"M 12.40625 8.296875 \nL 28.515625 8.296875 \nL 28.515625 63.921875 \nL 10.984375 60.40625 \nL 10.984375 69.390625 \nL 28.421875 72.90625 \nL 38.28125 72.90625 \nL 38.28125 8.296875 \nL 54.390625 8.296875 \nL 54.390625 0 \nL 12.40625 0 \nz\n\" id=\"DejaVuSans-49\"/>\n       </defs>\n       <use xlink:href=\"#DejaVuSans-49\"/>\n       <use x=\"63.623047\" xlink:href=\"#DejaVuSans-48\"/>\n       <use x=\"127.246094\" xlink:href=\"#DejaVuSans-48\"/>\n      </g>\n     </g>\n    </g>\n    <g id=\"ytick_6\">\n     <g id=\"line2d_8\">\n      <g>\n       <use style=\"stroke:#000000;stroke-width:0.8;\" x=\"33.2875\" xlink:href=\"#mfbe3e526a3\" y=\"146.899219\"/>\n      </g>\n     </g>\n     <g id=\"text_8\">\n      <!-- 125 -->\n      <g transform=\"translate(7.2 150.698437)scale(0.1 -0.1)\">\n       <use xlink:href=\"#DejaVuSans-49\"/>\n       <use x=\"63.623047\" xlink:href=\"#DejaVuSans-50\"/>\n       <use x=\"127.246094\" xlink:href=\"#DejaVuSans-53\"/>\n      </g>\n     </g>\n    </g>\n    <g id=\"ytick_7\">\n     <g id=\"line2d_9\">\n      <g>\n       <use style=\"stroke:#000000;stroke-width:0.8;\" x=\"33.2875\" xlink:href=\"#mfbe3e526a3\" y=\"174.079219\"/>\n      </g>\n     </g>\n     <g id=\"text_9\">\n      <!-- 150 -->\n      <g transform=\"translate(7.2 177.878437)scale(0.1 -0.1)\">\n       <use xlink:href=\"#DejaVuSans-49\"/>\n       <use x=\"63.623047\" xlink:href=\"#DejaVuSans-53\"/>\n       <use x=\"127.246094\" xlink:href=\"#DejaVuSans-48\"/>\n      </g>\n     </g>\n    </g>\n    <g id=\"ytick_8\">\n     <g id=\"line2d_10\">\n      <g>\n       <use style=\"stroke:#000000;stroke-width:0.8;\" x=\"33.2875\" xlink:href=\"#mfbe3e526a3\" y=\"201.259219\"/>\n      </g>\n     </g>\n     <g id=\"text_10\">\n      <!-- 175 -->\n      <g transform=\"translate(7.2 205.058437)scale(0.1 -0.1)\">\n       <use xlink:href=\"#DejaVuSans-49\"/>\n       <use x=\"63.623047\" xlink:href=\"#DejaVuSans-55\"/>\n       <use x=\"127.246094\" xlink:href=\"#DejaVuSans-53\"/>\n      </g>\n     </g>\n    </g>\n   </g>\n   <g id=\"patch_3\">\n    <path d=\"M 33.2875 227.895619 \nL 33.2875 10.455619 \n\" style=\"fill:none;stroke:#000000;stroke-linecap:square;stroke-linejoin:miter;stroke-width:0.8;\"/>\n   </g>\n   <g id=\"patch_4\">\n    <path d=\"M 87.6475 227.895619 \nL 87.6475 10.455619 \n\" style=\"fill:none;stroke:#000000;stroke-linecap:square;stroke-linejoin:miter;stroke-width:0.8;\"/>\n   </g>\n   <g id=\"patch_5\">\n    <path d=\"M 33.2875 227.895619 \nL 87.6475 227.895619 \n\" style=\"fill:none;stroke:#000000;stroke-linecap:square;stroke-linejoin:miter;stroke-width:0.8;\"/>\n   </g>\n   <g id=\"patch_6\">\n    <path d=\"M 33.2875 10.455619 \nL 87.6475 10.455619 \n\" style=\"fill:none;stroke:#000000;stroke-linecap:square;stroke-linejoin:miter;stroke-width:0.8;\"/>\n   </g>\n  </g>\n </g>\n <defs>\n  <clipPath id=\"pa921e3139e\">\n   <rect height=\"217.44\" width=\"54.36\" x=\"33.2875\" y=\"10.455619\"/>\n  </clipPath>\n </defs>\n</svg>\n",
      "image/png": "[encoded data removed]"
     },
     "metadata": {
      "needs_background": "light"
     }
    }
   ],
   "source": [
    "fig, ax = plt.subplots()\n",
    "ax.imshow(eps)"
   ]
  },
  {
   "cell_type": "code",
   "execution_count": 154,
   "metadata": {},
   "outputs": [],
   "source": [
    "eps_internal_field=list()\n",
    "eps_internal_field.append(f\"{str(nx*ny)}\\n\")\n",
    "eps_internal_field.append(\"(\\n\")\n",
    "for j in np.arange(0,ny):\n",
    "    for i in np.arange(0,nx):\n",
    "        eps_internal_field.append(f\"{str(eps[i,j])}\\n\")\n",
    "eps_internal_field.append(\")\\n\")\n",
    "eps_internal_field.append(\";\\n\")\n",
    "\n",
    "coke_internal_field=list()\n",
    "coke_internal_field.append(f\"{str(nx*ny)}\\n\")\n",
    "coke_internal_field.append(\"(\\n\")\n",
    "for j in np.arange(0,ny):\n",
    "    for i in np.arange(0,nx):\n",
    "        coke_internal_field.append(f\"{str(coke[i,j])}\\n\")\n",
    "coke_internal_field.append(\")\\n\")\n",
    "coke_internal_field.append(\";\\n\")"
   ]
  },
  {
   "cell_type": "code",
   "execution_count": 155,
   "metadata": {},
   "outputs": [],
   "source": [
    "with open(\"./eps_temple\",\"r\") as fp:\n",
    "    eps_temple=fp.readlines()\n",
    "internal_field_line_index=0\n",
    "for index,line in enumerate(eps_temple):\n",
    "    if line.startswith(\"internalField\"):\n",
    "        internal_field_line_index=index\n",
    "        for i in range(len(eps_internal_field)):\n",
    "            eps_temple.insert(internal_field_line_index+1+i,eps_internal_field[i])\n",
    "        break\n",
    "\n",
    "with open(\"./0/eps1\",\"w\") as fp:\n",
    "    fp.writelines(eps_temple)"
   ]
  },
  {
   "cell_type": "code",
   "execution_count": 156,
   "metadata": {},
   "outputs": [],
   "source": [
    "with open(\"./coke_temple\",\"r\") as fp:\n",
    "    coke_temple=fp.readlines()\n",
    "internal_field_line_index=0\n",
    "for index,line in enumerate(coke_temple):\n",
    "    if line.startswith(\"internalField\"):\n",
    "        internal_field_line_index=index\n",
    "        for i in range(len(coke_internal_field)):\n",
    "            coke_temple.insert(internal_field_line_index+1+i,coke_internal_field[i])\n",
    "        break\n",
    "\n",
    "with open(\"./0/coke1\",\"w\") as fp:\n",
    "    fp.writelines(coke_temple)"
   ]
  },
  {
   "cell_type": "code",
   "execution_count": null,
   "metadata": {},
   "outputs": [],
   "source": []
  }
 ]
}